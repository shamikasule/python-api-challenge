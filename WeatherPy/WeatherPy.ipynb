{
 "cells": [
  {
   "cell_type": "markdown",
   "metadata": {},
   "source": [
    "# WeatherPy\n",
    "----\n",
    "\n",
    "#### Note\n",
    "* Instructions have been included for each segment. You do not have to follow them exactly, but they are included to help you think through the steps."
   ]
  },
  {
   "cell_type": "code",
   "execution_count": 14,
   "metadata": {
    "scrolled": true
   },
   "outputs": [],
   "source": [
    "# Dependencies and Setup\n",
    "import matplotlib.pyplot as plt\n",
    "import pandas as pd\n",
    "import numpy as np\n",
    "import requests\n",
    "import time\n",
    "import scipy.stats as st\n",
    "from scipy.stats import linregress\n",
    "\n",
    "# Import API key\n",
    "from config import weather_api_key\n",
    "\n",
    "# Import citipy library - provides geo coordinates for all available cities with population over 500\n",
    "from citipy import citipy\n",
    "\n",
    "# Range of latitudes and longitudes -open interval\n",
    "lat_range = (-90, 90)\n",
    "lng_range = (-180, 180)"
   ]
  },
  {
   "cell_type": "markdown",
   "metadata": {},
   "source": [
    "## Generate Cities List"
   ]
  },
  {
   "cell_type": "code",
   "execution_count": 11,
   "metadata": {},
   "outputs": [
    {
     "data": {
      "text/plain": [
       "604"
      ]
     },
     "execution_count": 11,
     "metadata": {},
     "output_type": "execute_result"
    }
   ],
   "source": [
    "#This code gives us list of random cities\n",
    "\n",
    "# Initialize two lists\n",
    "lat_lngs = []\n",
    "cities = []\n",
    "\n",
    "# Create a set of random lat and lng combinations\n",
    "#numpy.random.uniform(low=0.0, high=1.0, size=None) - draws samples from uniform distribution- any value within half open interval (lat_range[0], lat_range[0]] is equally likely to be drawn\n",
    "#lats creates a random list of latitudes\n",
    "lats = np.random.uniform(lat_range[0], lat_range[1], size=1500)\n",
    "\n",
    "#lngs creates a random list of longitudes\n",
    "lngs = np.random.uniform(lng_range[0], lng_range[1], size=1500)\n",
    "\n",
    "#Merges the above two lists using zip function-to create an object with lats and longs\n",
    "lat_lngs = zip(lats, lngs)\n",
    "\n",
    "# Identify nearest city for each lat, lng combination\n",
    "# for loop looks at the lat_lng list\n",
    "for lat_lng in lat_lngs:\n",
    "    #using nearest_city function of citipy library \n",
    "    city = citipy.nearest_city(lat_lng[0], lat_lng[1]).city_name\n",
    "    \n",
    "    # If the city is unique, then add it to our cities list\n",
    "    if city not in cities:\n",
    "        cities.append(city)\n",
    "\n",
    "# Print the city count to confirm sufficient count\n",
    "len(cities)"
   ]
  },
  {
   "cell_type": "code",
   "execution_count": 13,
   "metadata": {},
   "outputs": [
    {
     "data": {
      "text/plain": [
       "['hasaki',\n",
       " 'bredasdorp',\n",
       " 'avarua',\n",
       " 'jamestown',\n",
       " 'bluff',\n",
       " 'papara',\n",
       " 'carnarvon',\n",
       " 'busselton',\n",
       " 'georgetown',\n",
       " 'safwah',\n",
       " 'niort',\n",
       " 'grand river south east',\n",
       " 'pedernales',\n",
       " 'cidreira',\n",
       " 'cape town',\n",
       " 'stange',\n",
       " 'belushya guba',\n",
       " 'attawapiskat',\n",
       " 'yellowknife',\n",
       " 'dikson',\n",
       " 'victoria',\n",
       " 'port elizabeth',\n",
       " 'ushuaia',\n",
       " 'vaini',\n",
       " 'cruzeiro do sul',\n",
       " 'mataura',\n",
       " 'butaritari',\n",
       " 'vikulovo',\n",
       " 'taolanaro',\n",
       " 'irece',\n",
       " 'laguna',\n",
       " 'punta arenas',\n",
       " 'toamasina',\n",
       " 'almaznyy',\n",
       " 'thompson',\n",
       " 'port alfred',\n",
       " 'upernavik',\n",
       " 'puerto ayora',\n",
       " 'iwaki',\n",
       " 'albany',\n",
       " 'saskylakh',\n",
       " 'rikitea',\n",
       " 'toliary',\n",
       " 'bonthe',\n",
       " 'ukhta',\n",
       " 'hobart',\n",
       " 'maningrida',\n",
       " 'iqaluit',\n",
       " 'mahebourg',\n",
       " 'moosomin',\n",
       " 'saint-philippe',\n",
       " 'scalloway',\n",
       " 'caruray',\n",
       " 'norman wells',\n",
       " 'tiksi',\n",
       " 'navadwip',\n",
       " 'aksu',\n",
       " 'hithadhoo',\n",
       " 'sabzevar',\n",
       " 'nyagan',\n",
       " 'richards bay',\n",
       " 'senneterre',\n",
       " 'lorengau',\n",
       " 'mountain home',\n",
       " 'sogne',\n",
       " 'artyk',\n",
       " 'castro',\n",
       " 'tura',\n",
       " 'asmara',\n",
       " 'rehoboth',\n",
       " 'ondjiva',\n",
       " 'longyearbyen',\n",
       " 'dickson',\n",
       " 'rawannawi',\n",
       " 'bonavista',\n",
       " 'labytnangi',\n",
       " 'ponta delgada',\n",
       " 'hermanus',\n",
       " 'bambous virieux',\n",
       " 'caraballeda',\n",
       " 'aylmer',\n",
       " 'bathsheba',\n",
       " 'dunbar',\n",
       " 'colatina',\n",
       " 'guarapari',\n",
       " 'bolshaya irba',\n",
       " 'kapaa',\n",
       " 'illoqqortoormiut',\n",
       " 'northam',\n",
       " 'arraial do cabo',\n",
       " 'chuy',\n",
       " 'tasiilaq',\n",
       " 'shingu',\n",
       " 'hervey bay',\n",
       " 'tikrit',\n",
       " 'viligili',\n",
       " 'rocha',\n",
       " 'saint-pierre',\n",
       " 'namibe',\n",
       " 'codrington',\n",
       " 'maldonado',\n",
       " 'nikolskoye',\n",
       " 'chicholi',\n",
       " 'shebalino',\n",
       " 'kodiak',\n",
       " 'east london',\n",
       " 'clyde river',\n",
       " 'kavaratti',\n",
       " 'kaitangata',\n",
       " 'port hedland',\n",
       " 'sola',\n",
       " 'vaitupu',\n",
       " 'huajuapan',\n",
       " 'ust-nera',\n",
       " 'jiexiu',\n",
       " 'goundam',\n",
       " 'coihaique',\n",
       " 'saint anthony',\n",
       " 'sentyabrskiy',\n",
       " 'valparaiso',\n",
       " 'lasa',\n",
       " 'san cristobal',\n",
       " 'kyren',\n",
       " 'ovalle',\n",
       " 'tuatapere',\n",
       " 'ahipara',\n",
       " 'beringovskiy',\n",
       " 'cherskiy',\n",
       " 'olovyannaya',\n",
       " 'barrow',\n",
       " 'amderma',\n",
       " 'barahona',\n",
       " 'heidelberg',\n",
       " 'sao filipe',\n",
       " 'sinnamary',\n",
       " 'provideniya',\n",
       " 'karachi',\n",
       " 'nuevitas',\n",
       " 'torbay',\n",
       " 'yar-sale',\n",
       " 'ostrovnoy',\n",
       " 'ambovombe',\n",
       " 'peleduy',\n",
       " 'maragogi',\n",
       " 'makakilo city',\n",
       " 'lebu',\n",
       " 'macusani',\n",
       " 'lagoa',\n",
       " 'jaisalmer',\n",
       " 'havoysund',\n",
       " 'trincomalee',\n",
       " 'neiafu',\n",
       " 'manta',\n",
       " 'necochea',\n",
       " 'atuona',\n",
       " 'chokurdakh',\n",
       " 'halifax',\n",
       " 'novo aripuana',\n",
       " 'kavieng',\n",
       " 'khorixas',\n",
       " 'murray bridge',\n",
       " 'oktyabrskoye',\n",
       " 'erdenet',\n",
       " 'zhezkazgan',\n",
       " 'srednekolymsk',\n",
       " 'kajaani',\n",
       " 'metapan',\n",
       " 'yumen',\n",
       " 'port blair',\n",
       " 'akyab',\n",
       " 'calama',\n",
       " 'yulara',\n",
       " 'assiniboia',\n",
       " 'tazovskiy',\n",
       " 'salinas',\n",
       " 'taoudenni',\n",
       " 'kirakira',\n",
       " 'vestmannaeyjar',\n",
       " 'esperance',\n",
       " 'ponta do sol',\n",
       " 'acapulco',\n",
       " 'chagda',\n",
       " 'ambilobe',\n",
       " 'khatanga',\n",
       " 'nemuro',\n",
       " 'barentsburg',\n",
       " 'north myrtle beach',\n",
       " 'margate',\n",
       " 'san patricio',\n",
       " 'dingzhou',\n",
       " 'soyo',\n",
       " 'banda aceh',\n",
       " 'tuktoyaktuk',\n",
       " 'kamaishi',\n",
       " 'mys shmidta',\n",
       " 'ulaangom',\n",
       " 'udachnyy',\n",
       " 'louisbourg',\n",
       " 'umarkhed',\n",
       " 'aklavik',\n",
       " 'havre-saint-pierre',\n",
       " 'rafsanjan',\n",
       " 'antalaha',\n",
       " 'berezovyy',\n",
       " 'constancia',\n",
       " 'bam',\n",
       " 'trelew',\n",
       " 'haines junction',\n",
       " 'new norfolk',\n",
       " 'hamilton',\n",
       " 'omsukchan',\n",
       " 'umzimvubu',\n",
       " 'ribeira grande',\n",
       " 'yunjinghong',\n",
       " 'nang rong',\n",
       " 'paamiut',\n",
       " 'tena',\n",
       " 'shubarshi',\n",
       " 'dunedin',\n",
       " 'katsuura',\n",
       " 'guerrero negro',\n",
       " 'byron bay',\n",
       " 'lavrentiya',\n",
       " 'faya',\n",
       " 'chicontepec',\n",
       " 'bivolari',\n",
       " 'sangar',\n",
       " 'tutoia',\n",
       " 'ilieni',\n",
       " 'jishou',\n",
       " 'gizo',\n",
       " 'samusu',\n",
       " 'bengkulu',\n",
       " 'hilo',\n",
       " 'kaeo',\n",
       " 'elko',\n",
       " 'cozumel',\n",
       " 'nerl',\n",
       " 'evans',\n",
       " 'olafsvik',\n",
       " 'hammerfest',\n",
       " 'dawei',\n",
       " 'biloela',\n",
       " 'tortoli',\n",
       " 'baykit',\n",
       " 'sosnovoborsk',\n",
       " 'inirida',\n",
       " 'porto santo',\n",
       " 'high level',\n",
       " 'mar del plata',\n",
       " 'mitu',\n",
       " 'cabo san lucas',\n",
       " 'san pedro',\n",
       " 'bayan',\n",
       " 'tiznit',\n",
       " 'namatanai',\n",
       " 'bethel',\n",
       " 'menongue',\n",
       " 'siyabuswa',\n",
       " 'fairbanks',\n",
       " 'fuxin',\n",
       " 'langsa',\n",
       " 'kruisfontein',\n",
       " 'palabuhanratu',\n",
       " 'karauli',\n",
       " 'tilichiki',\n",
       " 'fortuna',\n",
       " 'umm kaddadah',\n",
       " 'cockburn town',\n",
       " 'perbaungan',\n",
       " 'arlit',\n",
       " 'kahului',\n",
       " 'la ronge',\n",
       " 'nizhneyansk',\n",
       " 'padang',\n",
       " 'klaksvik',\n",
       " 'cobija',\n",
       " 'colinas',\n",
       " 'husavik',\n",
       " 'billings',\n",
       " 'saleaula',\n",
       " 'airai',\n",
       " 'khonuu',\n",
       " 'angoche',\n",
       " 'babushkin',\n",
       " 'tonota',\n",
       " 'jaciara',\n",
       " 'sao francisco',\n",
       " 'cookeville',\n",
       " 'qaanaaq',\n",
       " 'basay',\n",
       " 'bandarbeyla',\n",
       " 'labuhan',\n",
       " 'tsihombe',\n",
       " 'nago',\n",
       " 'constitucion',\n",
       " 'yerbogachen',\n",
       " 'faanui',\n",
       " 'wattegama',\n",
       " 'marv dasht',\n",
       " 'akonolinga',\n",
       " 'grand gaube',\n",
       " 'tonj',\n",
       " 'tucuman',\n",
       " 'ilulissat',\n",
       " 'kollumerland',\n",
       " 'marrakesh',\n",
       " 'mago',\n",
       " 'mutsamudu',\n",
       " 'luanda',\n",
       " 'salalah',\n",
       " 'viedma',\n",
       " 'beloha',\n",
       " 'tautira',\n",
       " 'portland',\n",
       " 'iralaya',\n",
       " 'pinawa',\n",
       " 'prince rupert',\n",
       " 'nipawin',\n",
       " 'mount gambier',\n",
       " 'bara',\n",
       " 'ketchikan',\n",
       " 'abis',\n",
       " 'dutlwe',\n",
       " 'ouricuri',\n",
       " 'sawtell',\n",
       " 'waycross',\n",
       " 'vila franca do campo',\n",
       " 'formosa',\n",
       " 'hokitika',\n",
       " 'mvangue',\n",
       " 'leshukonskoye',\n",
       " 'kendari',\n",
       " 'isangel',\n",
       " 'svetlogorsk',\n",
       " 'butembo',\n",
       " 'vostok',\n",
       " 'kamenskoye',\n",
       " 'sao joao da barra',\n",
       " 'solnechnyy',\n",
       " 'key west',\n",
       " 'pundaguitan',\n",
       " 'raudeberg',\n",
       " 'rudbar',\n",
       " 'severo-kurilsk',\n",
       " 'bubaque',\n",
       " 'micheweni',\n",
       " 'ayan',\n",
       " 'san fernando',\n",
       " 'bagotville',\n",
       " 'great yarmouth',\n",
       " 'nanortalik',\n",
       " 'medicine hat',\n",
       " 'gambiran',\n",
       " 'sioux lookout',\n",
       " 'adrar',\n",
       " 'el paso',\n",
       " 'odweyne',\n",
       " 'mankono',\n",
       " 'awjilah',\n",
       " 'dedza',\n",
       " 'charlestown',\n",
       " 'hadrut',\n",
       " 'acarau',\n",
       " 'axixa do tocantins',\n",
       " 'asyut',\n",
       " 'batagay',\n",
       " 'lucea',\n",
       " 'souillac',\n",
       " 'taburi',\n",
       " 'solwezi',\n",
       " 'pontal do parana',\n",
       " 'geraldton',\n",
       " 'deniliquin',\n",
       " 'sitka',\n",
       " 'buraydah',\n",
       " 'troitsko-pechorsk',\n",
       " 'eirunepe',\n",
       " 'koundara',\n",
       " 'pacific grove',\n",
       " 'bolungarvik',\n",
       " 'talnakh',\n",
       " 'bo',\n",
       " 'shimoda',\n",
       " 'vestmanna',\n",
       " 'rabo de peixe',\n",
       " 'rafaela',\n",
       " 'san quintin',\n",
       " 'esna',\n",
       " 'port lincoln',\n",
       " 'omboue',\n",
       " 'dali',\n",
       " 'bandar',\n",
       " 'fernandina beach',\n",
       " 'vilhena',\n",
       " 'beira',\n",
       " 'tessalit',\n",
       " 'pisco',\n",
       " 'itarema',\n",
       " 'kotido',\n",
       " 'devgarh',\n",
       " 'tabiauea',\n",
       " 'ilinskiy',\n",
       " 'indramayu',\n",
       " 'kilindoni',\n",
       " 'sargatskoye',\n",
       " 'narsaq',\n",
       " 'novopavlovka',\n",
       " 'aripuana',\n",
       " 'bodden town',\n",
       " 'pangnirtung',\n",
       " 'varzea da palma',\n",
       " 'matara',\n",
       " 'pochutla',\n",
       " 'rockhampton',\n",
       " 'andros town',\n",
       " 'nador',\n",
       " 'rungata',\n",
       " 'isla mujeres',\n",
       " 'sandwick',\n",
       " 'ancud',\n",
       " 'caravelas',\n",
       " 'buariki',\n",
       " 'lerwick',\n",
       " 'nkan',\n",
       " 'hede',\n",
       " 'baoqing',\n",
       " 'mazulskiy',\n",
       " 'foumban',\n",
       " 'aykhal',\n",
       " 'shetpe',\n",
       " 'houston',\n",
       " 'woodward',\n",
       " 'biswan',\n",
       " 'kulhudhuffushi',\n",
       " 'pozhva',\n",
       " 'jiroft',\n",
       " 'koratla',\n",
       " 'mehamn',\n",
       " 'rind',\n",
       " 'pavino',\n",
       " 'manbij',\n",
       " 'manggar',\n",
       " 'nagato',\n",
       " 'egvekinot',\n",
       " 'lolua',\n",
       " 'tarko-sale',\n",
       " 'patos de minas',\n",
       " 'beyneu',\n",
       " 'nicoya',\n",
       " 'halalo',\n",
       " 'yatou',\n",
       " 'jackson',\n",
       " 'saint-ambroise',\n",
       " 'naze',\n",
       " 'tamala',\n",
       " 'savannah bight',\n",
       " 'carman',\n",
       " 'nantucket',\n",
       " 'te anau',\n",
       " 'inhambane',\n",
       " 'pitimbu',\n",
       " 'bahar',\n",
       " 'lazaro cardenas',\n",
       " 'huntington',\n",
       " 'pevek',\n",
       " 'gat',\n",
       " 'jinchengjiang',\n",
       " 'nizwa',\n",
       " 'sabha',\n",
       " 'pokhara',\n",
       " 'iranshahr',\n",
       " 'likhoslavl',\n",
       " 'abong mbang',\n",
       " 'cheuskiny',\n",
       " 'ferrol',\n",
       " 'tinskoy',\n",
       " 'inderborskiy',\n",
       " 'arkhangelskoye',\n",
       " 'sakakah',\n",
       " 'naples',\n",
       " 'petropavlovka',\n",
       " 'kushmurun',\n",
       " 'kijang',\n",
       " 'krasnik',\n",
       " 'sackville',\n",
       " 'slave lake',\n",
       " 'bintulu',\n",
       " 'mount isa',\n",
       " 'meyungs',\n",
       " 'kiunga',\n",
       " 'vaitape',\n",
       " 'betare oya',\n",
       " 'phuket',\n",
       " 'barbar',\n",
       " 'palu',\n",
       " 'bull savanna',\n",
       " 'leiyang',\n",
       " 'manado',\n",
       " 'khovu-aksy',\n",
       " 'kenai',\n",
       " 'nova olimpia',\n",
       " 'lithakia',\n",
       " 'puerto palomas',\n",
       " 'mackay',\n",
       " 'atar',\n",
       " 'juba',\n",
       " 'turukhansk',\n",
       " 'beitbridge',\n",
       " 'storsteinnes',\n",
       " 'shache',\n",
       " 'tuma',\n",
       " 'puerto escondido',\n",
       " 'ahar',\n",
       " 'agogo',\n",
       " 'rundu',\n",
       " 'buqayq',\n",
       " 'wenatchee',\n",
       " 'chardara',\n",
       " 'broome',\n",
       " 'urengoy',\n",
       " 'doha',\n",
       " 'obo',\n",
       " 'sayan',\n",
       " 'hualmay',\n",
       " 'kwale',\n",
       " 'los llanos de aridane',\n",
       " 'karamken',\n",
       " 'kuching',\n",
       " 'shestakovo',\n",
       " 'bundaberg',\n",
       " 'dniprorudne',\n",
       " 'port-gentil',\n",
       " 'tumannyy',\n",
       " 'taltal',\n",
       " 'okato',\n",
       " 'sao miguel do oeste',\n",
       " 'luderitz',\n",
       " 'mnogovershinnyy',\n",
       " 'las palmas',\n",
       " 'henties bay',\n",
       " 'alta floresta',\n",
       " 'galiwinku',\n",
       " 'rach gia',\n",
       " 'marcona',\n",
       " 'manacapuru',\n",
       " 'leningradskiy',\n",
       " 'kochubey',\n",
       " 'baoying',\n",
       " 'pineville',\n",
       " 'burgeo',\n",
       " 'safford',\n",
       " 'kasama',\n",
       " 'katete',\n",
       " 'victor harbor',\n",
       " 'sosnovo-ozerskoye',\n",
       " 'qasigiannguit',\n",
       " 'lat yao',\n",
       " 'asfi',\n",
       " 'kloulklubed',\n",
       " 'port macquarie',\n",
       " 'merauke',\n",
       " 'bessemer',\n",
       " 'igrim',\n",
       " 'coos bay',\n",
       " 'hovd',\n",
       " 'ilhabela',\n",
       " 'veraval',\n",
       " 'balkanabat',\n",
       " 'mardin',\n",
       " 'aitape',\n",
       " 'utiroa',\n",
       " 'sumbawa',\n",
       " 'buala',\n",
       " 'fargo',\n",
       " 'copiapo',\n",
       " 'burns lake',\n",
       " 'treinta y tres',\n",
       " 'karratha',\n",
       " 'pontianak',\n",
       " 'mancheral',\n",
       " 'grand centre',\n",
       " 'passagem franca',\n",
       " 'port hardy',\n",
       " 'puerto del rosario',\n",
       " 'okahandja',\n",
       " 'balykshi',\n",
       " 'xinzhou',\n",
       " 'gerash',\n",
       " 'pont-sainte-maxence',\n",
       " 'manitouwadge',\n",
       " 'zyryanka',\n",
       " 'san andres',\n",
       " 'rumphi',\n",
       " 'stephenville',\n",
       " 'vegachi',\n",
       " 'salina',\n",
       " 'tchibanga',\n",
       " 'sale',\n",
       " 'almeirim',\n",
       " 'bereda',\n",
       " 'carberry',\n",
       " 'makurdi',\n",
       " 'plouzane',\n",
       " 'san rafael',\n",
       " 'basoko',\n",
       " 'voskresenskoye',\n",
       " 'rawah',\n",
       " 'poum',\n",
       " 'katunino',\n",
       " 'abiy adi',\n",
       " 'oktyabrskiy',\n",
       " 'smithers',\n",
       " 'coahuayana',\n",
       " 'orlik',\n",
       " 'yuzhno-yeniseyskiy',\n",
       " 'muzhi',\n",
       " 'narimanov',\n",
       " 'brownwood',\n",
       " 'abha',\n",
       " 'tezu',\n",
       " 'hvolsvollur',\n",
       " 'farim',\n",
       " 'thunder bay',\n",
       " 'plettenberg bay',\n",
       " 'lodingen',\n",
       " 'gotsu',\n",
       " 'brejo',\n",
       " 'belyy yar',\n",
       " 'lompoc',\n",
       " 'sur',\n",
       " 'galveston',\n",
       " 'yazoo city',\n",
       " 'pokrovsk-uralskiy',\n",
       " 'nioro',\n",
       " 'vangaindrano']"
      ]
     },
     "execution_count": 13,
     "metadata": {},
     "output_type": "execute_result"
    }
   ],
   "source": [
    "#cities"
   ]
  },
  {
   "cell_type": "code",
   "execution_count": 33,
   "metadata": {},
   "outputs": [],
   "source": [
    "url=\"http://api.openweathermap.org/data/2.5/weather?\"\n",
    "\n",
    "#Standard units are in Kelvin hence conversion-https://openweathermap.org/weather-data\n",
    "units=\"imperial\"\n",
    "\n",
    "#Build query url- base url+apikey+units\n",
    "query_url = f\"{url}appid={weather_api_key}&units={units}&q=\""
   ]
  },
  {
   "cell_type": "code",
   "execution_count": 34,
   "metadata": {},
   "outputs": [],
   "source": [
    "#cities=[\"New York\", \"London\",\"Boslo Fake City\",\"Moscow\",\"Beijing\"]\n",
    "\n",
    "#declared variables to hold list objects\n",
    "dt=[]\n",
    "country=[]\n",
    "lat=[]\n",
    "lng=[]\n",
    "cloud=[]\n",
    "humidity=[]\n",
    "temp_max=[]\n",
    "windspeed=[]\n",
    "\n",
    "#print(cities)"
   ]
  },
  {
   "cell_type": "markdown",
   "metadata": {},
   "source": [
    "## Perform API Calls\n",
    "* Perform a weather check on each city using a series of successive API calls.\n",
    "* Include a print log of each city as it'sbeing processed (with the city number and city name).\n"
   ]
  },
  {
   "cell_type": "code",
   "execution_count": null,
   "metadata": {},
   "outputs": [],
   "source": [
    "\n",
    "for city in cities:\n",
    "    url= query_url + city\n",
    "    time.sleep(1)\n",
    "    try:\n",
    "        response=requests.get(url).json()\n",
    "        lat.append(response[\"coord\"][\"lat\"])\n",
    "        lng.append(response[\"coord\"][\"lon\"])\n",
    "        country.append(response[\"sys\"][\"country\"])\n",
    "        dt.append(response[\"dt\"])\n",
    "        temp_max.append(response[\"main\"][\"temp_max\"])\n",
    "        cloud.append(response[\"clouds\"][\"all\"])   \n",
    "        humidity.append(response[\"main\"][\"humidity\"])\n",
    "        windspeed.append(response[\"wind\"][\"speed\"])\n",
    "    except KeyError:\n",
    "        #print(\"City not found\")\n",
    "        lat.append(0)\n",
    "        lng.append(0)\n",
    "        country.append(city +\" Not Found\")\n",
    "        dt.append(\"\")\n",
    "        temp_max.append(0)\n",
    "        cloud.append(0)\n",
    "        humidity.append(0)\n",
    "        windspeed.append(0)"
   ]
  },
  {
   "cell_type": "code",
   "execution_count": null,
   "metadata": {},
   "outputs": [],
   "source": [
    "#df=pd.DataFrame({'City': cities, 'Cloudiness (%)': cloud, 'Country': country, 'Date': dt, 'Humidity (%)': humidity, 'Lat': lat, 'Lon': lng, 'Max Temp (F)': temp_max, 'WindSpeed (mph)': windspeed})\n",
    "#print(df)"
   ]
  },
  {
   "cell_type": "code",
   "execution_count": 70,
   "metadata": {},
   "outputs": [
    {
     "data": {
      "text/html": [
       "<div>\n",
       "<style scoped>\n",
       "    .dataframe tbody tr th:only-of-type {\n",
       "        vertical-align: middle;\n",
       "    }\n",
       "\n",
       "    .dataframe tbody tr th {\n",
       "        vertical-align: top;\n",
       "    }\n",
       "\n",
       "    .dataframe thead th {\n",
       "        text-align: right;\n",
       "    }\n",
       "</style>\n",
       "<table border=\"1\" class=\"dataframe\">\n",
       "  <thead>\n",
       "    <tr style=\"text-align: right;\">\n",
       "      <th></th>\n",
       "      <th>City</th>\n",
       "      <th>Cloudiness (%)</th>\n",
       "      <th>Country</th>\n",
       "      <th>Date</th>\n",
       "      <th>Humidity (%)</th>\n",
       "      <th>Lat</th>\n",
       "      <th>Lon</th>\n",
       "      <th>Max Temp (F)</th>\n",
       "      <th>WindSpeed (mph)</th>\n",
       "    </tr>\n",
       "  </thead>\n",
       "  <tbody>\n",
       "    <tr>\n",
       "      <th>0</th>\n",
       "      <td>hasaki</td>\n",
       "      <td>75</td>\n",
       "      <td>JP</td>\n",
       "      <td>1603149160</td>\n",
       "      <td>100</td>\n",
       "      <td>35.73</td>\n",
       "      <td>140.83</td>\n",
       "      <td>51.80</td>\n",
       "      <td>6.93</td>\n",
       "    </tr>\n",
       "    <tr>\n",
       "      <th>1</th>\n",
       "      <td>bredasdorp</td>\n",
       "      <td>100</td>\n",
       "      <td>ZA</td>\n",
       "      <td>1603149009</td>\n",
       "      <td>62</td>\n",
       "      <td>-34.53</td>\n",
       "      <td>20.04</td>\n",
       "      <td>59.00</td>\n",
       "      <td>8.05</td>\n",
       "    </tr>\n",
       "    <tr>\n",
       "      <th>2</th>\n",
       "      <td>avarua</td>\n",
       "      <td>10</td>\n",
       "      <td>CK</td>\n",
       "      <td>1603149174</td>\n",
       "      <td>78</td>\n",
       "      <td>-21.21</td>\n",
       "      <td>-159.78</td>\n",
       "      <td>78.80</td>\n",
       "      <td>6.93</td>\n",
       "    </tr>\n",
       "    <tr>\n",
       "      <th>3</th>\n",
       "      <td>jamestown</td>\n",
       "      <td>90</td>\n",
       "      <td>US</td>\n",
       "      <td>1603148855</td>\n",
       "      <td>100</td>\n",
       "      <td>42.10</td>\n",
       "      <td>-79.24</td>\n",
       "      <td>51.01</td>\n",
       "      <td>4.70</td>\n",
       "    </tr>\n",
       "    <tr>\n",
       "      <th>4</th>\n",
       "      <td>bluff</td>\n",
       "      <td>88</td>\n",
       "      <td>NZ</td>\n",
       "      <td>1603148928</td>\n",
       "      <td>84</td>\n",
       "      <td>-46.60</td>\n",
       "      <td>168.33</td>\n",
       "      <td>50.00</td>\n",
       "      <td>8.99</td>\n",
       "    </tr>\n",
       "    <tr>\n",
       "      <th>...</th>\n",
       "      <td>...</td>\n",
       "      <td>...</td>\n",
       "      <td>...</td>\n",
       "      <td>...</td>\n",
       "      <td>...</td>\n",
       "      <td>...</td>\n",
       "      <td>...</td>\n",
       "      <td>...</td>\n",
       "      <td>...</td>\n",
       "    </tr>\n",
       "    <tr>\n",
       "      <th>630</th>\n",
       "      <td>sur</td>\n",
       "      <td>4</td>\n",
       "      <td>OM</td>\n",
       "      <td>1603149844</td>\n",
       "      <td>43</td>\n",
       "      <td>22.57</td>\n",
       "      <td>59.53</td>\n",
       "      <td>78.93</td>\n",
       "      <td>10.07</td>\n",
       "    </tr>\n",
       "    <tr>\n",
       "      <th>631</th>\n",
       "      <td>galveston</td>\n",
       "      <td>1</td>\n",
       "      <td>US</td>\n",
       "      <td>1603149630</td>\n",
       "      <td>78</td>\n",
       "      <td>29.37</td>\n",
       "      <td>-94.97</td>\n",
       "      <td>80.60</td>\n",
       "      <td>13.87</td>\n",
       "    </tr>\n",
       "    <tr>\n",
       "      <th>632</th>\n",
       "      <td>yazoo city</td>\n",
       "      <td>1</td>\n",
       "      <td>US</td>\n",
       "      <td>1603149846</td>\n",
       "      <td>65</td>\n",
       "      <td>32.86</td>\n",
       "      <td>-90.41</td>\n",
       "      <td>78.80</td>\n",
       "      <td>4.38</td>\n",
       "    </tr>\n",
       "    <tr>\n",
       "      <th>634</th>\n",
       "      <td>nioro</td>\n",
       "      <td>9</td>\n",
       "      <td>GM</td>\n",
       "      <td>1603149848</td>\n",
       "      <td>62</td>\n",
       "      <td>13.35</td>\n",
       "      <td>-15.75</td>\n",
       "      <td>79.90</td>\n",
       "      <td>4.97</td>\n",
       "    </tr>\n",
       "    <tr>\n",
       "      <th>635</th>\n",
       "      <td>vangaindrano</td>\n",
       "      <td>97</td>\n",
       "      <td>MG</td>\n",
       "      <td>1603149849</td>\n",
       "      <td>90</td>\n",
       "      <td>-23.35</td>\n",
       "      <td>47.60</td>\n",
       "      <td>70.54</td>\n",
       "      <td>5.88</td>\n",
       "    </tr>\n",
       "  </tbody>\n",
       "</table>\n",
       "<p>576 rows × 9 columns</p>\n",
       "</div>"
      ],
      "text/plain": [
       "             City  Cloudiness (%) Country        Date  Humidity (%)    Lat  \\\n",
       "0          hasaki              75      JP  1603149160           100  35.73   \n",
       "1      bredasdorp             100      ZA  1603149009            62 -34.53   \n",
       "2          avarua              10      CK  1603149174            78 -21.21   \n",
       "3       jamestown              90      US  1603148855           100  42.10   \n",
       "4           bluff              88      NZ  1603148928            84 -46.60   \n",
       "..            ...             ...     ...         ...           ...    ...   \n",
       "630           sur               4      OM  1603149844            43  22.57   \n",
       "631     galveston               1      US  1603149630            78  29.37   \n",
       "632    yazoo city               1      US  1603149846            65  32.86   \n",
       "634         nioro               9      GM  1603149848            62  13.35   \n",
       "635  vangaindrano              97      MG  1603149849            90 -23.35   \n",
       "\n",
       "        Lon  Max Temp (F)  WindSpeed (mph)  \n",
       "0    140.83         51.80             6.93  \n",
       "1     20.04         59.00             8.05  \n",
       "2   -159.78         78.80             6.93  \n",
       "3    -79.24         51.01             4.70  \n",
       "4    168.33         50.00             8.99  \n",
       "..      ...           ...              ...  \n",
       "630   59.53         78.93            10.07  \n",
       "631  -94.97         80.60            13.87  \n",
       "632  -90.41         78.80             4.38  \n",
       "634  -15.75         79.90             4.97  \n",
       "635   47.60         70.54             5.88  \n",
       "\n",
       "[576 rows x 9 columns]"
      ]
     },
     "execution_count": 70,
     "metadata": {},
     "output_type": "execute_result"
    }
   ],
   "source": [
    "# cleaned_df=df.loc[df[\"Lat\"]!=0]\n",
    "# cleaned_df"
   ]
  },
  {
   "cell_type": "markdown",
   "metadata": {},
   "source": [
    "## Convert Raw Data to DataFrame\n",
    "* Save as csv"
   ]
  },
  {
   "cell_type": "code",
   "execution_count": null,
   "metadata": {},
   "outputs": [],
   "source": [
    "# Output File (CSV)\n",
    "final_cities = \"output_files/final_cities.csv\""
   ]
  },
  {
   "cell_type": "code",
   "execution_count": 16,
   "metadata": {},
   "outputs": [
    {
     "data": {
      "text/plain": [
       "Unnamed: 0         576\n",
       "City               576\n",
       "Cloudiness (%)     576\n",
       "Country            570\n",
       "Date               576\n",
       "Humidity (%)       576\n",
       "Lat                576\n",
       "Lon                576\n",
       "Max Temp (F)       576\n",
       "WindSpeed (mph)    576\n",
       "dtype: int64"
      ]
     },
     "execution_count": 16,
     "metadata": {},
     "output_type": "execute_result"
    }
   ],
   "source": [
    "df=pd.read_csv(\"output_files/final_cities.csv\")\n",
    "#df.head()\n",
    "df.count()"
   ]
  },
  {
   "cell_type": "markdown",
   "metadata": {},
   "source": [
    "## Plotting the Data\n",
    "* Use proper labeling of the plots using plot titles (including date of analysis) and axes labels.\n",
    "* Save the plotted figures as .pngs."
   ]
  },
  {
   "cell_type": "markdown",
   "metadata": {},
   "source": [
    "### Latitude vs. Temperature Plot"
   ]
  },
  {
   "cell_type": "code",
   "execution_count": 17,
   "metadata": {},
   "outputs": [],
   "source": [
    "#Converts the column values of a dataframe to numeric type or list obj\n",
    "x=pd.to_numeric(df['Lat'])\n",
    "\n",
    "y=pd.to_numeric(df['Max Temp (F)'])"
   ]
  },
  {
   "cell_type": "code",
   "execution_count": 25,
   "metadata": {
    "scrolled": true
   },
   "outputs": [
    {
     "data": {
      "image/png": "[encoded data removed]",
      "text/plain": [
       "<Figure size 432x288 with 1 Axes>"
      ]
     },
     "metadata": {
      "needs_background": "light"
     },
     "output_type": "display_data"
    },
    {
     "data": {
      "text/plain": [
       "<Figure size 432x288 with 0 Axes>"
      ]
     },
     "metadata": {},
     "output_type": "display_data"
    }
   ],
   "source": [
    "#Scatter plot using pandas\n",
    "df.plot(kind='scatter',x='Lat', y='Max Temp (F)', grid=True, title=\"Latitude v Max Temp(F)\")\n",
    "plt.show()\n",
    "\n",
    "#saves figure to o/p files directory\n",
    "plt.savefig(r\"output_files\\LatvMaxTemp.png\")"
   ]
  },
  {
   "cell_type": "code",
   "execution_count": null,
   "metadata": {},
   "outputs": [],
   "source": [
    "#From the above scatter plot cities with latitudes closer to the equator (0) seem to show higher max temps\n",
    "#cities to the east of prime meridian(+ve latitudes) seem to show lower max temps, cities to the west of prime meridian(-ve latitudes) seem to show higher max temps."
   ]
  },
  {
   "cell_type": "markdown",
   "metadata": {},
   "source": [
    "### Latitude vs. Humidity Plot"
   ]
  },
  {
   "cell_type": "code",
   "execution_count": 78,
   "metadata": {},
   "outputs": [],
   "source": [
    "#Converting dataframe columns to numeric\n",
    "x=pd.to_numeric(df['Lat'])\n",
    "y=pd.to_numeric(df['Humidity (%)'])"
   ]
  },
  {
   "cell_type": "code",
   "execution_count": 26,
   "metadata": {},
   "outputs": [
    {
     "data": {
      "image/png": "[encoded data removed]",
      "text/plain": [
       "<Figure size 432x288 with 1 Axes>"
      ]
     },
     "metadata": {
      "needs_background": "light"
     },
     "output_type": "display_data"
    },
    {
     "data": {
      "text/plain": [
       "<Figure size 432x288 with 0 Axes>"
      ]
     },
     "metadata": {},
     "output_type": "display_data"
    }
   ],
   "source": [
    "df.plot(kind='scatter', x='Lat', y='Humidity (%)', grid=True, title='Latitude vs Humidity (%)')\n",
    "plt.show()\n",
    "plt.savefig(r\"output_files\\LatvHum.png\")"
   ]
  },
  {
   "cell_type": "markdown",
   "metadata": {},
   "source": [
    "### Latitude vs. Cloudiness Plot"
   ]
  },
  {
   "cell_type": "code",
   "execution_count": 20,
   "metadata": {},
   "outputs": [],
   "source": [
    "#Converts dataframe columns to numeric so they can be passed as x, y params to generate scatter plots\n",
    "df['Lat']=pd.to_numeric(df['Lat'])\n",
    "df['Cloud']=pd.to_numeric(df['Cloudiness (%)'])"
   ]
  },
  {
   "cell_type": "code",
   "execution_count": 27,
   "metadata": {},
   "outputs": [
    {
     "data": {
      "image/png": "[encoded data removed]",
      "text/plain": [
       "<Figure size 432x288 with 1 Axes>"
      ]
     },
     "metadata": {
      "needs_background": "light"
     },
     "output_type": "display_data"
    },
    {
     "data": {
      "text/plain": [
       "<Figure size 432x288 with 0 Axes>"
      ]
     },
     "metadata": {},
     "output_type": "display_data"
    }
   ],
   "source": [
    "df.plot(kind='scatter', x='Lat' , y='Cloudiness (%)', grid=True, title='Latitude vs Cloudiness (%)')\n",
    "plt.show()\n",
    "plt.savefig(r\"output_files\\LatvCloud.png\")"
   ]
  },
  {
   "cell_type": "markdown",
   "metadata": {},
   "source": [
    "### Latitude vs. Wind Speed Plot"
   ]
  },
  {
   "cell_type": "code",
   "execution_count": 64,
   "metadata": {},
   "outputs": [],
   "source": [
    "df['Lat']=pd.to_numeric(df['Lat'])\n",
    "\n",
    "df['Wind Speed']=pd.to_numeric(df['WindSpeed (mph)'])"
   ]
  },
  {
   "cell_type": "code",
   "execution_count": 28,
   "metadata": {},
   "outputs": [
    {
     "data": {
      "image/png": "[encoded data removed]",
      "text/plain": [
       "<Figure size 432x288 with 1 Axes>"
      ]
     },
     "metadata": {
      "needs_background": "light"
     },
     "output_type": "display_data"
    },
    {
     "data": {
      "text/plain": [
       "<Figure size 432x288 with 0 Axes>"
      ]
     },
     "metadata": {},
     "output_type": "display_data"
    }
   ],
   "source": [
    "df.plot.scatter(x='Lat', y='WindSpeed (mph)', grid=True, title='Latitude vs Wind Speed (mph)')\n",
    "plt.show()\n",
    "plt.savefig(r\"output_files\\LatvWindspeed.png\")"
   ]
  },
  {
   "cell_type": "markdown",
   "metadata": {},
   "source": [
    "## Linear Regression"
   ]
  },
  {
   "cell_type": "markdown",
   "metadata": {},
   "source": [
    "### Write linear regression plot function (optional)"
   ]
  },
  {
   "cell_type": "code",
   "execution_count": 22,
   "metadata": {},
   "outputs": [
    {
     "data": {
      "text/plain": [
       "Unnamed: 0         394\n",
       "City               394\n",
       "Cloudiness (%)     394\n",
       "Country            394\n",
       "Date               394\n",
       "Humidity (%)       394\n",
       "Lat                394\n",
       "Lon                394\n",
       "Max Temp (F)       394\n",
       "WindSpeed (mph)    394\n",
       "Cloud              394\n",
       "dtype: int64"
      ]
     },
     "execution_count": 22,
     "metadata": {},
     "output_type": "execute_result"
    }
   ],
   "source": [
    "#new df for northern hemisphere sorted based on lat values\n",
    "df_nh=df.loc[df[\"Lat\"]>0]\n",
    "#print(df_nh)\n",
    "df_nh.count()"
   ]
  },
  {
   "cell_type": "code",
   "execution_count": 23,
   "metadata": {},
   "outputs": [
    {
     "data": {
      "text/plain": [
       "Unnamed: 0         182\n",
       "City               182\n",
       "Cloudiness (%)     182\n",
       "Country            176\n",
       "Date               182\n",
       "Humidity (%)       182\n",
       "Lat                182\n",
       "Lon                182\n",
       "Max Temp (F)       182\n",
       "WindSpeed (mph)    182\n",
       "Cloud              182\n",
       "dtype: int64"
      ]
     },
     "execution_count": 23,
     "metadata": {},
     "output_type": "execute_result"
    }
   ],
   "source": [
    "#new df for southern hemisphere sorted based on lat values\n",
    "df_sh=df.loc[df[\"Lat\"]<0]\n",
    "#print(df_sh)\n",
    "#df_sh.dropna(how=\"any\")\n",
    "df_sh.count()"
   ]
  },
  {
   "cell_type": "markdown",
   "metadata": {},
   "source": [
    "###  Northern Hemisphere - Max Temp vs. Latitude Linear Regression"
   ]
  },
  {
   "cell_type": "code",
   "execution_count": 59,
   "metadata": {},
   "outputs": [
    {
     "data": {
      "image/png": "[encoded data removed]",
      "text/plain": [
       "<Figure size 432x288 with 1 Axes>"
      ]
     },
     "metadata": {
      "needs_background": "light"
     },
     "output_type": "display_data"
    }
   ],
   "source": [
    "#passing df_nh lat values as x and df_nh max temp values as y\n",
    "plt.scatter(df_nh[\"Lat\"],df_nh[\"Max Temp (F)\"])\n",
    "\n",
    "#linregress returns slope, intercept, rvalue, pvalue, stderror\n",
    "(slope, intercept, rvalue, pvalue, stderr)=linregress(df_nh[\"Lat\"], df_nh[\"Max Temp (F)\"])\n",
    "a=df_nh[\"Lat\"]*slope+intercept\n",
    "\n",
    "#Equation of line & rounding the values to 2 decimals\n",
    "line_eq = \"y = \" + str(round(slope,2)) + \"x + \" + str(round(intercept,2))\n",
    "\n",
    "plt.plot(df_nh[\"Lat\"],a,\"r-\")\n",
    "\n",
    "plt.annotate(line_eq,(5,30),fontsize=15,color=\"blue\")\n",
    "\n",
    "# Title, x label, and y label for chart\n",
    "plt.title(\"Latitude v Max Temp (F)\") \n",
    "plt.xlabel(\"Lat\")\n",
    "plt.ylabel(\"Max Temp (F)\")\n",
    "plt.show()"
   ]
  },
  {
   "cell_type": "code",
   "execution_count": null,
   "metadata": {},
   "outputs": [],
   "source": [
    "#Based on the above scatter plot & regression line, there seems to be a negative corelation between max temp of cities in nh and latitudes.\n",
    "#Cities further away from equator seem to show lower values of max temp. "
   ]
  },
  {
   "cell_type": "markdown",
   "metadata": {},
   "source": [
    "###  Southern Hemisphere - Max Temp vs. Latitude Linear Regression"
   ]
  },
  {
   "cell_type": "code",
   "execution_count": 62,
   "metadata": {},
   "outputs": [
    {
     "data": {
      "image/png": "[encoded data removed]",
      "text/plain": [
       "<Figure size 432x288 with 1 Axes>"
      ]
     },
     "metadata": {
      "needs_background": "light"
     },
     "output_type": "display_data"
    }
   ],
   "source": [
    "#passing df_sh lat values as x and df_sh max temp values as y\n",
    "plt.scatter(df_sh[\"Lat\"],df_sh[\"Max Temp (F)\"])\n",
    "\n",
    "#linregress returns slope, intercept, rvalue, pvalue, stderror\n",
    "(slope, intercept, rvalue, pvalue, stderr)=linregress(df_sh[\"Lat\"], df_sh[\"Max Temp (F)\"])\n",
    "a=df_sh[\"Lat\"]*slope+intercept\n",
    "\n",
    "#Equation of line & rounding the values to 2 decimals\n",
    "line_eq = \"y = \" + str(round(slope,2)) + \"x + \" + str(round(intercept,2))\n",
    "\n",
    "plt.plot(df_sh[\"Lat\"],a,\"r-\")\n",
    " \n",
    "plt.annotate(line_eq,(-30,45),fontsize=14,color=\"blue\")\n",
    "\n",
    "# Title, x label, and y label for chart\n",
    "plt.title(\"Max Temp (F) v Latitude\") \n",
    "plt.xlabel(\"Lat\")\n",
    "plt.ylabel(\"Max Temp (F)\")\n",
    "plt.show()"
   ]
  },
  {
   "cell_type": "code",
   "execution_count": null,
   "metadata": {},
   "outputs": [],
   "source": [
    "#Based on the above scatter plot & regression line, there seems to be a positive corelation between max temp of cities in sh and latitudes."
   ]
  },
  {
   "cell_type": "markdown",
   "metadata": {},
   "source": [
    "###  Northern Hemisphere - Humidity (%) vs. Latitude Linear Regression"
   ]
  },
  {
   "cell_type": "code",
   "execution_count": 72,
   "metadata": {},
   "outputs": [
    {
     "data": {
      "image/png": "[encoded data removed]",
      "text/plain": [
       "<Figure size 432x288 with 1 Axes>"
      ]
     },
     "metadata": {
      "needs_background": "light"
     },
     "output_type": "display_data"
    }
   ],
   "source": [
    "#passing df_nh lat values as x and df_nh humidity values as y\n",
    "plt.scatter(df_nh[\"Lat\"],df_nh[\"Humidity (%)\"])\n",
    "\n",
    "#linregress returns slope, intercept, rvalue, pvalue, stderror\n",
    "(slope, intercept, rvalue, pvalue, stderr)=linregress(df_nh[\"Lat\"], df_nh[\"Humidity (%)\"])\n",
    "a=df_nh[\"Lat\"]*slope+intercept\n",
    "\n",
    "#Equation of line & rounding the values to 2 decimals\n",
    "line_eq = \"y = \" + str(round(slope,2)) + \"x + \" + str(round(intercept,2))\n",
    "\n",
    "plt.plot(df_nh[\"Lat\"],a,\"r-\")\n",
    "\n",
    "plt.annotate(line_eq,(50,20),fontsize=12,color=\"blue\")\n",
    "\n",
    "# Title, x label, and y label for chart\n",
    "plt.title(\"Humidity (%) v Latitude\") \n",
    "plt.xlabel(\"Lat\")\n",
    "plt.ylabel(\"Humidity (%)\")\n",
    "plt.show()"
   ]
  },
  {
   "cell_type": "code",
   "execution_count": null,
   "metadata": {},
   "outputs": [],
   "source": [
    "#Based on the above scatter plot & regression line, there seems to be a positive corelation between humidity values of cities in nh and latitudes."
   ]
  },
  {
   "cell_type": "markdown",
   "metadata": {},
   "source": [
    "###  Southern Hemisphere - Humidity (%) vs. Latitude Linear Regression"
   ]
  },
  {
   "cell_type": "code",
   "execution_count": 76,
   "metadata": {},
   "outputs": [
    {
     "data": {
      "image/png": "[encoded data removed]",
      "text/plain": [
       "<Figure size 432x288 with 1 Axes>"
      ]
     },
     "metadata": {
      "needs_background": "light"
     },
     "output_type": "display_data"
    }
   ],
   "source": [
    "#passing df_sh lat values as x and df_sh humidity values as y\n",
    "plt.scatter(df_sh[\"Lat\"],df_sh[\"Humidity (%)\"])\n",
    "\n",
    "#linregress returns slope, intercept, rvalue, pvalue, stderror\n",
    "(slope, intercept, rvalue, pvalue, stderr)=linregress(df_sh[\"Lat\"], df_sh[\"Humidity (%)\"])\n",
    "a=df_sh[\"Lat\"]*slope+intercept\n",
    "\n",
    "#Equation of line & rounding the values to 2 decimals\n",
    "line_eq = \"y = \" + str(round(slope,2)) + \"x + \" + str(round(intercept,2))\n",
    "\n",
    "plt.plot(df_sh[\"Lat\"],a,\"r-\")\n",
    "\n",
    "plt.annotate(line_eq,(-50,50),fontsize=15,color=\"blue\")\n",
    "\n",
    "# Title, x label, and y label for chart\n",
    "plt.title(\"Humidity (%) v Latitude\") \n",
    "plt.xlabel(\"Lat\")\n",
    "plt.ylabel(\"Humidity (%)\")\n",
    "plt.show()"
   ]
  },
  {
   "cell_type": "code",
   "execution_count": null,
   "metadata": {},
   "outputs": [],
   "source": [
    "#Based on the above scatter plot & regression line, there seems to be a positive corelation between humidity values of cities in sh and latitudes."
   ]
  },
  {
   "cell_type": "markdown",
   "metadata": {},
   "source": [
    "###  Northern Hemisphere - Cloudiness (%) vs. Latitude Linear Regression"
   ]
  },
  {
   "cell_type": "code",
   "execution_count": 85,
   "metadata": {},
   "outputs": [
    {
     "data": {
      "image/png": "[encoded data removed]",
      "text/plain": [
       "<Figure size 432x288 with 1 Axes>"
      ]
     },
     "metadata": {
      "needs_background": "light"
     },
     "output_type": "display_data"
    }
   ],
   "source": [
    "#passing df_nh lat values as x and df_nh cloudiness values as y\n",
    "plt.scatter(df_nh[\"Lat\"],df_nh['Cloudiness (%)'])\n",
    "\n",
    "#linregress returns slope, intercept, rvalue, pvalue, stderror\n",
    "(slope, intercept, rvalue, pvalue, stderr)=linregress(df_nh[\"Lat\"], df_nh['Cloudiness (%)'])\n",
    "a=df_nh[\"Lat\"]*slope+intercept\n",
    "\n",
    "#Equation of line & rounding the values to 2 decimals\n",
    "line_eq = \"y = \" + str(round(slope,2)) + \"x + \" + str(round(intercept,2))\n",
    "\n",
    "plt.plot(df_nh[\"Lat\"],a,\"r-\")\n",
    "\n",
    "plt.annotate(line_eq,(50,40),fontsize=12,color=\"blue\")\n",
    "\n",
    "# Title, x label, and y label for chart\n",
    "plt.title(\"Cloudiness (%) v Latitude\") \n",
    "plt.xlabel(\"Lat\")\n",
    "plt.ylabel(\"Cloudiness (%)\")\n",
    "plt.show()"
   ]
  },
  {
   "cell_type": "code",
   "execution_count": null,
   "metadata": {},
   "outputs": [],
   "source": [
    "#Based on the above scatter plot & regression line, there seems to be a positive corelation between cloudiness in cities in nh and latitudes."
   ]
  },
  {
   "cell_type": "markdown",
   "metadata": {},
   "source": [
    "###  Southern Hemisphere - Cloudiness (%) vs. Latitude Linear Regression"
   ]
  },
  {
   "cell_type": "code",
   "execution_count": 86,
   "metadata": {},
   "outputs": [
    {
     "data": {
      "image/png": "[encoded data removed]",
      "text/plain": [
       "<Figure size 432x288 with 1 Axes>"
      ]
     },
     "metadata": {
      "needs_background": "light"
     },
     "output_type": "display_data"
    }
   ],
   "source": [
    "#passing df_sh lat values as x and df_sh cloudiness values as y\n",
    "plt.scatter(df_sh[\"Lat\"],df_sh['Cloudiness (%)'])\n",
    "\n",
    "#linregress returns slope, intercept, rvalue, pvalue, stderror\n",
    "(slope, intercept, rvalue, pvalue, stderr)=linregress(df_sh[\"Lat\"], df_sh['Cloudiness (%)'])\n",
    "a=df_sh[\"Lat\"]*slope+intercept\n",
    "\n",
    "#Equation of line & rounding the values to 2 decimals\n",
    "line_eq = \"y = \" + str(round(slope,2)) + \"x + \" + str(round(intercept,2))\n",
    "\n",
    "plt.plot(df_sh[\"Lat\"],a,\"r-\")\n",
    "\n",
    "plt.annotate(line_eq,(-55,60),fontsize=15,color=\"blue\")\n",
    "\n",
    "# Title, x label, and y label for chart\n",
    "plt.title(\"Cloudiness (%) v Latitude\") \n",
    "plt.xlabel(\"Lat\")\n",
    "plt.ylabel(\"Cloudiness (%)\")\n",
    "plt.show()"
   ]
  },
  {
   "cell_type": "code",
   "execution_count": null,
   "metadata": {},
   "outputs": [],
   "source": [
    "#Based on the above scatter plot & regression line, there seems to be a positive corelation between cloudiness in cities in sh and latitudes."
   ]
  },
  {
   "cell_type": "markdown",
   "metadata": {},
   "source": [
    "###  Northern Hemisphere - Wind Speed (mph) vs. Latitude Linear Regression"
   ]
  },
  {
   "cell_type": "code",
   "execution_count": 87,
   "metadata": {},
   "outputs": [
    {
     "data": {
      "image/png": "[encoded data removed]",
      "text/plain": [
       "<Figure size 432x288 with 1 Axes>"
      ]
     },
     "metadata": {
      "needs_background": "light"
     },
     "output_type": "display_data"
    }
   ],
   "source": [
    "#passing df_nh lat values as x and df_nh windspeed values as y\n",
    "plt.scatter(df_nh[\"Lat\"],df_nh['WindSpeed (mph)'])\n",
    "\n",
    "#linregress returns slope, intercept, rvalue, pvalue, stderror\n",
    "(slope, intercept, rvalue, pvalue, stderr)=linregress(df_nh[\"Lat\"], df_nh['WindSpeed (mph)'])\n",
    "a=df_nh[\"Lat\"]*slope+intercept\n",
    "\n",
    "#Equation of line & rounding the values to 2 decimals\n",
    "line_eq = \"y = \" + str(round(slope,2)) + \"x + \" + str(round(intercept,2))\n",
    "\n",
    "plt.plot(df_nh[\"Lat\"],a,\"r-\")\n",
    "\n",
    "#values 20 & 40 based on x and y values \n",
    "plt.annotate(line_eq,(10,30),fontsize=15,color=\"blue\")\n",
    "\n",
    "# Title, x label, and y label for chart\n",
    "plt.title(\"WindSpeed (mph) v Latitude\") \n",
    "plt.xlabel(\"Lat\")\n",
    "plt.ylabel(\"Windspeed (mph)\")\n",
    "plt.show()"
   ]
  },
  {
   "cell_type": "code",
   "execution_count": null,
   "metadata": {},
   "outputs": [],
   "source": [
    "#Based on the above scatter plot & regression line, there seems to be a positive corelation between windpseed in cities in nh and latitudes."
   ]
  },
  {
   "cell_type": "markdown",
   "metadata": {},
   "source": [
    "###  Southern Hemisphere - Wind Speed (mph) vs. Latitude Linear Regression"
   ]
  },
  {
   "cell_type": "code",
   "execution_count": 89,
   "metadata": {},
   "outputs": [
    {
     "data": {
      "image/png": "[encoded data removed]",
      "text/plain": [
       "<Figure size 432x288 with 1 Axes>"
      ]
     },
     "metadata": {
      "needs_background": "light"
     },
     "output_type": "display_data"
    }
   ],
   "source": [
    "#passing df_sh lat values as x and df_sh windspeed values as y\n",
    "plt.scatter(df_sh[\"Lat\"],df_sh['WindSpeed (mph)'])\n",
    "\n",
    "#linregress returns slope, intercept, rvalue, pvalue, stderror\n",
    "(slope, intercept, rvalue, pvalue, stderr)=linregress(df_sh[\"Lat\"], df_sh['WindSpeed (mph)'])\n",
    "a=df_sh[\"Lat\"]*slope+intercept\n",
    "\n",
    "#Equation of line & rounding the values to 2 decimals\n",
    "line_eq = \"y = \" + str(round(slope,2)) + \"x + \" + str(round(intercept,2))\n",
    "\n",
    "plt.plot(df_sh[\"Lat\"],a,\"r-\")\n",
    "\n",
    "plt.annotate(line_eq,(-50,20),fontsize=15,color=\"blue\")\n",
    "\n",
    "# Title, x label, and y label for chart\n",
    "plt.title(\"WindSpeed (mph) v Latitude\") \n",
    "plt.xlabel(\"Lat\")\n",
    "plt.ylabel(\"Windspeed (mph)\")\n",
    "plt.show()"
   ]
  },
  {
   "cell_type": "code",
   "execution_count": null,
   "metadata": {},
   "outputs": [],
   "source": [
    "#Based on the above scatter plot & regression line, there seems to be a negative corelation between windpseed in cities in sh and latitudes."
   ]
  }
 ],
 "metadata": {
  "anaconda-cloud": {},
  "kernel_info": {
   "name": "python3"
  },
  "kernelspec": {
   "display_name": "Python 3",
   "language": "python",
   "name": "python3"
  },
  "language_info": {
   "codemirror_mode": {
    "name": "ipython",
    "version": 3
   },
   "file_extension": ".py",
   "mimetype": "text/x-python",
   "name": "python",
   "nbconvert_exporter": "python",
   "pygments_lexer": "ipython3",
   "version": "3.6.10"
  },
  "latex_envs": {
   "LaTeX_envs_menu_present": true,
   "autoclose": false,
   "autocomplete": true,
   "bibliofile": "biblio.bib",
   "cite_by": "apalike",
   "current_citInitial": 1,
   "eqLabelWithNumbers": true,
   "eqNumInitial": 1,
   "hotkeys": {
    "equation": "Ctrl-E",
    "itemize": "Ctrl-I"
   },
   "labels_anchors": false,
   "latex_user_defs": false,
   "report_style_numbering": false,
   "user_envs_cfg": false
  },
  "nteract": {
   "version": "0.12.3"
  },
  "toc": {
   "base_numbering": 1,
   "nav_menu": {},
   "number_sections": true,
   "sideBar": true,
   "skip_h1_title": false,
   "title_cell": "Table of Contents",
   "title_sidebar": "Contents",
   "toc_cell": false,
   "toc_position": {},
   "toc_section_display": true,
   "toc_window_display": false
  },
  "varInspector": {
   "cols": {
    "lenName": 16,
    "lenType": 16,
    "lenVar": 40
   },
   "kernels_config": {
    "python": {
     "delete_cmd_postfix": "",
     "delete_cmd_prefix": "del ",
     "library": "var_list.py",
     "varRefreshCmd": "print(var_dic_list())"
    },
    "r": {
     "delete_cmd_postfix": ") ",
     "delete_cmd_prefix": "rm(",
     "library": "var_list.r",
     "varRefreshCmd": "cat(var_dic_list()) "
    }
   },
   "types_to_exclude": [
    "module",
    "function",
    "builtin_function_or_method",
    "instance",
    "_Feature"
   ],
   "window_display": false
  }
 },
 "nbformat": 4,
 "nbformat_minor": 2
}
